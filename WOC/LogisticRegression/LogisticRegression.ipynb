{
 "cells": [
  {
   "cell_type": "code",
   "execution_count": 2,
   "metadata": {},
   "outputs": [],
   "source": [
    "import numpy as np\n",
    "import matplotlib.pyplot as plt"
   ]
  },
  {
   "cell_type": "code",
   "execution_count": 3,
   "metadata": {},
   "outputs": [],
   "source": [
    "data = np.genfromtxt('LogisticRegressionData.txt', delimiter = ',')\n",
    "np.random.shuffle(data)\n",
    "x = data[:, (0,1)]\n",
    "y = data[:, 2]\n",
    "y = y.reshape(len(y), 1)\n",
    "m = len(x)\n",
    "ones = np.ones((m, 1))\n",
    " #Adding a ones column matrix \n",
    "x = np.hstack((ones, x))\n",
    "theta = np.random.randn(3,1)"
   ]
  },
  {
   "cell_type": "code",
   "execution_count": 4,
   "metadata": {},
   "outputs": [],
   "source": [
    "def normaliseData(data):\n",
    "    data = (data - data.mean())/data.std()\n",
    "    return data"
   ]
  },
  {
   "cell_type": "code",
   "execution_count": 5,
   "metadata": {},
   "outputs": [],
   "source": [
    "def costFunction(x, theta, y, m):\n",
    "    J = np.sum(np.square(x.dot(theta) - y)) / (2*m)\n",
    "    return J"
   ]
  },
  {
   "cell_type": "code",
   "execution_count": 7,
   "metadata": {},
   "outputs": [],
   "source": [
    "def gradientDescent(x, y, theta, m):\n",
    "    y_pred = x.dot(theta)\n",
    "    dJ = np.dot((y_pred - y).T,x)/(m)\n",
    "    alpha = 0.00005\n",
    "    num_of_iter = 10000\n",
    "    for i in range(num_of_iter):\n",
    "        theta = theta - alpha*(dJ.T)\n",
    "    return theta\n",
    "#updating predicted value\n",
    "theta = gradientDescent(x, y, theta, m)\n",
    "y_pred = x.dot(theta)\n"
   ]
  }
 ],
 "metadata": {
  "kernelspec": {
   "display_name": "Python 3",
   "language": "python",
   "name": "python3"
  },
  "language_info": {
   "codemirror_mode": {
    "name": "ipython",
    "version": 3
   },
   "file_extension": ".py",
   "mimetype": "text/x-python",
   "name": "python",
   "nbconvert_exporter": "python",
   "pygments_lexer": "ipython3",
   "version": "3.6.5"
  }
 },
 "nbformat": 4,
 "nbformat_minor": 2
}
