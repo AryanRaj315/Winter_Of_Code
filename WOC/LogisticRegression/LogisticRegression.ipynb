{
 "cells": [
  {
   "cell_type": "code",
   "execution_count": 57,
   "metadata": {},
   "outputs": [],
   "source": [
    "import numpy as np\n",
    "import matplotlib.pyplot as plt"
   ]
  },
  {
   "cell_type": "code",
   "execution_count": 58,
   "metadata": {},
   "outputs": [],
   "source": [
    "def normaliseData(data):\n",
    "    data = (data - data.mean())/data.std()\n",
    "    return data"
   ]
  },
  {
   "cell_type": "code",
   "execution_count": 59,
   "metadata": {},
   "outputs": [],
   "source": [
    "data = np.genfromtxt('LogisticRegressionData.txt', delimiter = ',')\n",
    "np.random.shuffle(data)\n",
    "normaliseData(data)\n",
    "x = data[:, (0,1)]\n",
    "y = data[:, 2]\n",
    "m = len(x)\n",
    "y = y.reshape(1, m)\n",
    "x = x.reshape(x.shape[1], m)\n",
    "#logistic regression thought as a neural network "
   ]
  },
  {
   "cell_type": "code",
   "execution_count": 60,
   "metadata": {},
   "outputs": [],
   "source": [
    "w = np.random.randn(x.shape[0], 1)\n",
    "b = 0"
   ]
  },
  {
   "cell_type": "code",
   "execution_count": 61,
   "metadata": {},
   "outputs": [],
   "source": [
    "def sigmoid(Z):\n",
    "    A = 1/(1 + np.exp(-Z))\n",
    "    return A"
   ]
  },
  {
   "cell_type": "code",
   "execution_count": 62,
   "metadata": {},
   "outputs": [],
   "source": [
    "def costandgrad(x, w, b, y):\n",
    "    \n",
    "    m = len(y)\n",
    "    z = np.dot(w.T, x) + b\n",
    "    A = sigmoid(z)\n",
    "    dw = 1/m*np.dot(x, (A - y).T)\n",
    "    db = (1/m)*np.sum(A - y)\n",
    "    J = (1/m) * np.sum((y*np.log(A) + (1-y)*np.log(1-A)))\n",
    "    \n",
    "    grads = {\"dw\": dw, \"db\": db}\n",
    "    return grads, J"
   ]
  },
  {
   "cell_type": "code",
   "execution_count": 63,
   "metadata": {},
   "outputs": [],
   "source": [
    "def gradientDescent(X, Y, w, b, num_of_iter, alpha):\n",
    "    \n",
    "    alpha = 0.00005\n",
    "    num_of_iter = 10000\n",
    "    costs = []\n",
    "    for i in range(num_of_iter):\n",
    "        grads, cost = costandgrad(x, w, b, y)\n",
    "        dw = grads[\"dw\"]\n",
    "        db = grads[\"db\"]\n",
    "        w -= alpha*dw\n",
    "        b -= alpha*db\n",
    "    WandB = {\"w\": w, \"b\": b}\n",
    "    grads = {\"dw\": dw, \"db\": db}\n",
    "    return WandB, grads\n",
    "#updating predicted value"
   ]
  },
  {
   "cell_type": "code",
   "execution_count": 64,
   "metadata": {},
   "outputs": [],
   "source": [
    "def predict(w, b, x):\n",
    "    m = x.shape[1]\n",
    "    y_pred = np.zeros((1,m))\n",
    "    w = w.reshape(x.shape[0], 1)\n",
    "    A = sigmoid(np.dot(w.T, x) + b)\n",
    "    for i in range(A.shape[1]):\n",
    "        if(A[0][i] <= 0.5):\n",
    "            y_pred[0][i] = 0\n",
    "        else:\n",
    "            y_pred[0][i] = 1\n",
    "    return y_pred\n",
    "    "
   ]
  },
  {
   "cell_type": "code",
   "execution_count": 65,
   "metadata": {},
   "outputs": [],
   "source": [
    "def logRegInAction(x, y, num_of_iter = 2000, alpha = 0.5):\n",
    "    w, b = np.zeros((len(x),1)), 0\n",
    "    WandB, grads = gradientDescent(x, y, w, b, num_of_iter, alpha)\n",
    "    w = WandB[\"w\"]\n",
    "    b = WandB[\"b\"]\n",
    "    y_pred = predict(w, b, x)\n",
    "    print(\"train accuracy: {} %\".format(100 - np.mean(np.abs(y_pred - y)) * 100))    "
   ]
  },
  {
   "cell_type": "code",
   "execution_count": 66,
   "metadata": {},
   "outputs": [
    {
     "name": "stdout",
     "output_type": "stream",
     "text": [
      "train accuracy: 62.71186440677966 %\n"
     ]
    }
   ],
   "source": [
    "logRegInAction(x, y, num_of_iter = 2000, alpha = 0.1)"
   ]
  },
  {
   "cell_type": "code",
   "execution_count": null,
   "metadata": {},
   "outputs": [],
   "source": []
  },
  {
   "cell_type": "code",
   "execution_count": null,
   "metadata": {},
   "outputs": [],
   "source": []
  },
  {
   "cell_type": "code",
   "execution_count": null,
   "metadata": {},
   "outputs": [],
   "source": []
  },
  {
   "cell_type": "code",
   "execution_count": null,
   "metadata": {},
   "outputs": [],
   "source": []
  },
  {
   "cell_type": "code",
   "execution_count": null,
   "metadata": {},
   "outputs": [],
   "source": []
  },
  {
   "cell_type": "code",
   "execution_count": null,
   "metadata": {},
   "outputs": [],
   "source": []
  },
  {
   "cell_type": "code",
   "execution_count": null,
   "metadata": {},
   "outputs": [],
   "source": []
  },
  {
   "cell_type": "code",
   "execution_count": null,
   "metadata": {},
   "outputs": [],
   "source": []
  }
 ],
 "metadata": {
  "kernelspec": {
   "display_name": "Python 3",
   "language": "python",
   "name": "python3"
  },
  "language_info": {
   "codemirror_mode": {
    "name": "ipython",
    "version": 3
   },
   "file_extension": ".py",
   "mimetype": "text/x-python",
   "name": "python",
   "nbconvert_exporter": "python",
   "pygments_lexer": "ipython3",
   "version": "3.6.5"
  }
 },
 "nbformat": 4,
 "nbformat_minor": 2
}
