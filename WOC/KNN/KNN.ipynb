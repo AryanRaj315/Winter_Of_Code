{
 "cells": [
  {
   "cell_type": "code",
   "execution_count": 385,
   "metadata": {},
   "outputs": [],
   "source": [
    "import numpy as np\n",
    "import matplotlib.pyplot as plt"
   ]
  },
  {
   "cell_type": "code",
   "execution_count": 430,
   "metadata": {},
   "outputs": [],
   "source": [
    "#Getting Data\n",
    "data = np.genfromtxt('Image1.txt', delimiter = ',')\n",
    "np.random.shuffle(data)\n",
    "x = data[:, (0,1)]\n",
    "y = data[:, 2]\n",
    "x_ = data[9990:, (0,1)]\n",
    "y_ = data[9990:, 2] - 1\n",
    "y = y.reshape(10000,1)\n",
    "m = len(y)\n",
    "n = len(np.unique(y))\n",
    "p = int(np.min(np.unique(y)))\n",
    "Y = np.zeros((m, n))\n",
    "class_code = np.zeros((k,1))\n",
    "for i in range(len(y)):\n",
    "    Y[i][int(y[i]) - 1] = 1\n",
    "k = 5"
   ]
  },
  {
   "cell_type": "code",
   "execution_count": 431,
   "metadata": {},
   "outputs": [
    {
     "data": {
      "image/png": "[encoded data removed]",
      "text/plain": [
       "<Figure size 432x288 with 1 Axes>"
      ]
     },
     "metadata": {},
     "output_type": "display_data"
    }
   ],
   "source": [
    "def graphPlotting(x):\n",
    "    plt.scatter(x[:,0], x[:,1], c = 'green')\n",
    "    plt.xlabel(\"x\")\n",
    "    plt.ylabel(\"y\")\n",
    "    plt.title(\"graph of the given data\")\n",
    "    plt.show()\n",
    "graphPlotting(x)   "
   ]
  },
  {
   "cell_type": "code",
   "execution_count": 432,
   "metadata": {},
   "outputs": [],
   "source": [
    "def euclideanDistance(x, point):\n",
    "    \n",
    "    distance =  np.sqrt(np.sum((x - point)**2, axis = 1))        \n",
    "    return distance"
   ]
  },
  {
   "cell_type": "code",
   "execution_count": 433,
   "metadata": {},
   "outputs": [],
   "source": [
    "def k_neighbors(point, k):\n",
    "       \n",
    "    euc_dist = euclideanDistance(x, point)\n",
    "    neighbors = Y[np.argsort(euc_dist)]\n",
    "    k_nearest_neighbors = neighbors[:k]\n",
    "    return k_nearest_neighbors"
   ]
  },
  {
   "cell_type": "code",
   "execution_count": 434,
   "metadata": {},
   "outputs": [],
   "source": [
    "def class_matrix(k, n, p,point):\n",
    "    \n",
    "    knn = k_neighbors(point, k)\n",
    "    for i in range(k):\n",
    "        for j in range(n):\n",
    "            if(knn[i][j] == 1):\n",
    "                class_code[i] = j \n",
    "    return class_code"
   ]
  },
  {
   "cell_type": "code",
   "execution_count": 435,
   "metadata": {},
   "outputs": [],
   "source": [
    "def class_of_point(k, n, p, count):\n",
    "    b = class_matrix(k, n, p,count)\n",
    "    a = np.ravel(b)\n",
    "    counts = np.bincount(a.astype(int))\n",
    "    return np.argmax(counts)"
   ]
  },
  {
   "cell_type": "code",
   "execution_count": 436,
   "metadata": {},
   "outputs": [],
   "source": [
    "def predict(x_):\n",
    "    y_pred = np.zeros(len(x_))\n",
    "    for i in range(len(x_)):\n",
    "        y_pred[i] = class_of_point(k, n, p, x_[i])\n",
    "    return y_pred"
   ]
  },
  {
   "cell_type": "code",
   "execution_count": 447,
   "metadata": {},
   "outputs": [],
   "source": [
    "def accuracy(x_):\n",
    "    y_pred = predict(x_)\n",
    "    acc = y_pred - y_\n",
    "    accuracy = np.count_nonzero(acc == 0)/len(y_pred) * 100 \n",
    "    return accuracy"
   ]
  },
  {
   "cell_type": "code",
   "execution_count": 448,
   "metadata": {},
   "outputs": [
    {
     "name": "stdout",
     "output_type": "stream",
     "text": [
      "100.0\n"
     ]
    }
   ],
   "source": [
    "print(accuracy(x_))"
   ]
  },
  {
   "cell_type": "code",
   "execution_count": null,
   "metadata": {},
   "outputs": [],
   "source": []
  }
 ],
 "metadata": {
  "kernelspec": {
   "display_name": "Python 3",
   "language": "python",
   "name": "python3"
  },
  "language_info": {
   "codemirror_mode": {
    "name": "ipython",
    "version": 3
   },
   "file_extension": ".py",
   "mimetype": "text/x-python",
   "name": "python",
   "nbconvert_exporter": "python",
   "pygments_lexer": "ipython3",
   "version": "3.6.5"
  }
 },
 "nbformat": 4,
 "nbformat_minor": 2
}
