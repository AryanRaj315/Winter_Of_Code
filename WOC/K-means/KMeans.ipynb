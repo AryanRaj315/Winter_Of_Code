{
 "cells": [
  {
   "cell_type": "code",
   "execution_count": 110,
   "metadata": {},
   "outputs": [],
   "source": [
    "import numpy as np\n",
    "import matplotlib.pyplot as plt"
   ]
  },
  {
   "cell_type": "code",
   "execution_count": 128,
   "metadata": {},
   "outputs": [
    {
     "data": {
      "text/plain": [
       "2"
      ]
     },
     "execution_count": 128,
     "metadata": {},
     "output_type": "execute_result"
    }
   ],
   "source": [
    "data = np.genfromtxt('Image1.txt', delimiter = ',')\n",
    "np.random.shuffle(data)\n",
    "x = data[:, (0,1)]\n",
    "y = data[:, 2]\n",
    "m = len(y)\n",
    "n = np.unique(y)\n",
    "k = len(np.unique(y))   #Number of clusters\n",
    "c_r1 = np.random.uniform(low=np.min(x[:,0]), high=np.max(x[:,0]), size=(k,1))\n",
    "c_r2 = np.random.uniform(low=np.min(x[:,1]), high=np.max(x[:,1]), size=(k,1))\n",
    "centroid = np.hstack((c_r1,c_r2))\n",
    "k"
   ]
  },
  {
   "cell_type": "code",
   "execution_count": 129,
   "metadata": {},
   "outputs": [
    {
     "data": {
      "image/png": "[encoded data removed]",
      "text/plain": [
       "<Figure size 432x288 with 1 Axes>"
      ]
     },
     "metadata": {},
     "output_type": "display_data"
    }
   ],
   "source": [
    "def graph_plotting(x, y, centroid):\n",
    "    plt.figure()\n",
    "    plt.scatter(x[:, 0], x[:, 1], c = 'green')\n",
    "    plt.scatter(centroid[:, 0], centroid[:, 1], color = \"blue\")\n",
    "    plt.xlabel('x')\n",
    "    plt.ylabel('y')\n",
    "graph_plotting(x, y, centroid)"
   ]
  },
  {
   "cell_type": "code",
   "execution_count": 130,
   "metadata": {},
   "outputs": [
    {
     "data": {
      "text/plain": [
       "array([[0.],\n",
       "       [0.],\n",
       "       [1.],\n",
       "       ...,\n",
       "       [0.],\n",
       "       [1.],\n",
       "       [0.]])"
      ]
     },
     "execution_count": 130,
     "metadata": {},
     "output_type": "execute_result"
    }
   ],
   "source": [
    "def Cluster_assignment(x, k, centroid, m):\n",
    "    cluster_num = np.zeros((m, 1))\n",
    "    for i in range(m):\n",
    "        dist = (np.sum((centroid - x[i])**2, axis = 1)).reshape(k,1)\n",
    "        cluster_num[i] = np.argmin(dist)\n",
    "    return cluster_num\n",
    "Cluster_assignment(x, k, centroid, m)"
   ]
  },
  {
   "cell_type": "code",
   "execution_count": 131,
   "metadata": {},
   "outputs": [],
   "source": [
    "def centroid_update(x, k, centroid, m):\n",
    "    centroid_index = Cluster_assignment(x, k,centroid, m)\n",
    "    new_centroids = np.zeros((k, 2))\n",
    "    for i in range(k):\n",
    "        z = len((np.argwhere(centroid_index == i))[:,0])\n",
    "        a = ((np.argwhere(centroid_index == i))[:,0]).reshape(z,1).flatten()\n",
    "        new_centroids[i] = (x[a,:]).mean(0)   \n",
    "    return new_centroids"
   ]
  },
  {
   "cell_type": "code",
   "execution_count": 132,
   "metadata": {},
   "outputs": [],
   "source": [
    "def loop(x,k,centroid,m):\n",
    "    old_centroid = centroid\n",
    "    old_centroid\n",
    "    for i in range(10):\n",
    "        new_centroid = centroid_update(x, k, old_centroid,m)\n",
    "        old_centroid = new_centroid\n",
    "    return new_centroid\n",
    "    "
   ]
  },
  {
   "cell_type": "code",
   "execution_count": 133,
   "metadata": {},
   "outputs": [],
   "source": [
    "centroid = loop(x,k, centroid,m)"
   ]
  },
  {
   "cell_type": "code",
   "execution_count": 134,
   "metadata": {},
   "outputs": [
    {
     "data": {
      "image/png": "[encoded data removed]",
      "text/plain": [
       "<Figure size 432x288 with 1 Axes>"
      ]
     },
     "metadata": {},
     "output_type": "display_data"
    }
   ],
   "source": [
    "graph_plotting(x, y, centroid)"
   ]
  },
  {
   "cell_type": "code",
   "execution_count": null,
   "metadata": {},
   "outputs": [],
   "source": []
  },
  {
   "cell_type": "code",
   "execution_count": null,
   "metadata": {},
   "outputs": [],
   "source": []
  },
  {
   "cell_type": "code",
   "execution_count": null,
   "metadata": {},
   "outputs": [],
   "source": []
  },
  {
   "cell_type": "code",
   "execution_count": null,
   "metadata": {},
   "outputs": [],
   "source": []
  },
  {
   "cell_type": "code",
   "execution_count": null,
   "metadata": {},
   "outputs": [],
   "source": []
  },
  {
   "cell_type": "code",
   "execution_count": null,
   "metadata": {},
   "outputs": [],
   "source": []
  },
  {
   "cell_type": "code",
   "execution_count": null,
   "metadata": {},
   "outputs": [],
   "source": []
  },
  {
   "cell_type": "code",
   "execution_count": null,
   "metadata": {},
   "outputs": [],
   "source": []
  },
  {
   "cell_type": "code",
   "execution_count": null,
   "metadata": {},
   "outputs": [],
   "source": []
  },
  {
   "cell_type": "code",
   "execution_count": null,
   "metadata": {},
   "outputs": [],
   "source": []
  }
 ],
 "metadata": {
  "kernelspec": {
   "display_name": "Python 3",
   "language": "python",
   "name": "python3"
  },
  "language_info": {
   "codemirror_mode": {
    "name": "ipython",
    "version": 3
   },
   "file_extension": ".py",
   "mimetype": "text/x-python",
   "name": "python",
   "nbconvert_exporter": "python",
   "pygments_lexer": "ipython3",
   "version": "3.6.5"
  }
 },
 "nbformat": 4,
 "nbformat_minor": 2
}
