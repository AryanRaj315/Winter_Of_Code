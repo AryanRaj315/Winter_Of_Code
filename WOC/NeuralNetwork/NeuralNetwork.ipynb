{
 "cells": [
  {
   "cell_type": "code",
   "execution_count": 1,
   "metadata": {},
   "outputs": [],
   "source": [
    "import numpy as np\n",
    "import  matplotlib.pyplot as plt"
   ]
  },
  {
   "cell_type": "code",
   "execution_count": 10,
   "metadata": {},
   "outputs": [],
   "source": [
    "data = np.genfromtxt('Corners.txt', delimiter = '')\n",
    "np.random.shuffle(data)\n",
    "x = data[:, (0,1)]\n",
    "y = data[:, 2]\n",
    "y = y.reshape(1000,1)\n",
    "m = len(y)\n",
    "n = len(np.unique(y))\n",
    "Y = np.zeros((m, n))\n",
    "for i in range(len(y)):\n",
    "    Y[i][int(y[i])] = 1"
   ]
  },
  {
   "cell_type": "code",
   "execution_count": 11,
   "metadata": {},
   "outputs": [],
   "source": [
    "def sigmoid(x):\n",
    "    return 1/(1 + np.exp(-x))"
   ]
  },
  {
   "cell_type": "code",
   "execution_count": 12,
   "metadata": {},
   "outputs": [],
   "source": [
    "def derivatives_sigmoid(x):\n",
    "    return x * (1 - x)"
   ]
  },
  {
   "cell_type": "code",
   "execution_count": 13,
   "metadata": {},
   "outputs": [],
   "source": [
    "#Variable initialisation for \n",
    "num_of_iter = 2000\n",
    "learning_rate = 0.01\n",
    "neurons_input = x.shape[1]\n",
    "neurons_hidL = neurons_input + n \n",
    "neurons_outL = n\n",
    "weights_hidL = np.random.uniform(low = -1, high = 1, size = (neurons_input,neurons_hidL))\n",
    "weights_outL = np.random.uniform(low = -1, high = 1, size = (neurons_hidL,neurons_outL))\n",
    "bias_inputL=np.random.uniform(low = -1, high = 1,size=(m,neurons_hidL))\n",
    "bias_hidL=np.random.uniform(low = -1, high = 1,size=(m,neurons_outL))"
   ]
  },
  {
   "cell_type": "code",
   "execution_count": 14,
   "metadata": {},
   "outputs": [],
   "source": [
    "#Forward Propogation\n",
    "#for i in range(num_of_iter):\n",
    "input_hidL = np.dot(x, weights_hidL) + bias_inputL\n",
    "activations_hidL = sigmoid(input_hidL)\n",
    "outL= np.dot(activations_hidL, weights_outL) + bias_hidL\n",
    "output = sigmoid(outL)"
   ]
  },
  {
   "cell_type": "code",
   "execution_count": 16,
   "metadata": {},
   "outputs": [],
   "source": [
    "#backpropagation\n",
    "Error_outL = Y-output\n",
    "Error_hidL = (((np.dot(weights_outL,Error_outL.T)).T)*(derivatives_sigmoid(activations_hidL)))\n",
    "slope_outL = derivatives_sigmoid(output)\n",
    "slope_hidL = derivatives_sigmoid(activations_hidL)\n",
    "d_output = Error_outL * slope_outL\n",
    "d_hidL = Error_hidL * slope_hidL\n",
    "weights_outL += (output.T).dot(d_output) * learning_rate\n",
    "weights_hidL += activations_hidL.T.dot(d_hidL) * learning_rate\n",
    "\n"
   ]
  },
  {
   "cell_type": "code",
   "execution_count": null,
   "metadata": {},
   "outputs": [],
   "source": []
  }
 ],
 "metadata": {
  "kernelspec": {
   "display_name": "Python 3",
   "language": "python",
   "name": "python3"
  },
  "language_info": {
   "codemirror_mode": {
    "name": "ipython",
    "version": 3
   },
   "file_extension": ".py",
   "mimetype": "text/x-python",
   "name": "python",
   "nbconvert_exporter": "python",
   "pygments_lexer": "ipython3",
   "version": "3.6.5"
  }
 },
 "nbformat": 4,
 "nbformat_minor": 2
}
