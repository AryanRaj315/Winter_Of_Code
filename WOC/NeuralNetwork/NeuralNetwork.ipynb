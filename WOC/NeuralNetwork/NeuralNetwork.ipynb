{
 "cells": [
  {
   "cell_type": "code",
   "execution_count": 1,
   "metadata": {},
   "outputs": [],
   "source": [
    "import numpy as np\n",
    "import  matplotlib.pyplot as plt"
   ]
  },
  {
   "cell_type": "code",
   "execution_count": 9,
   "metadata": {},
   "outputs": [
    {
     "data": {
      "text/plain": [
       "array([[0., 0., 1., 0.],\n",
       "       [1., 0., 0., 0.],\n",
       "       [0., 0., 0., 1.],\n",
       "       ...,\n",
       "       [1., 0., 0., 0.],\n",
       "       [1., 0., 0., 0.],\n",
       "       [0., 1., 0., 0.]])"
      ]
     },
     "execution_count": 9,
     "metadata": {},
     "output_type": "execute_result"
    }
   ],
   "source": [
    "data = np.genfromtxt('Corners.txt', delimiter = '')\n",
    "np.random.shuffle(data)\n",
    "x = data[:, (0,1)]\n",
    "y = data[:, 2]\n",
    "y = y.reshape(1000,1)\n",
    "m = len(y)\n",
    "n = len(np.unique(y))\n",
    "Y = np.zeros((m, n))\n",
    "for i in range(len(y)):\n",
    "    Y[i][int(y[i])] = 1\n",
    "Y"
   ]
  },
  {
   "cell_type": "code",
   "execution_count": 3,
   "metadata": {},
   "outputs": [],
   "source": [
    "def sigmoid(x):\n",
    "    return 1/(1 + np.exp(-x))"
   ]
  },
  {
   "cell_type": "code",
   "execution_count": 4,
   "metadata": {},
   "outputs": [],
   "source": [
    "def derivatives_sigmoid(x):\n",
    "    return x * (1 - x)"
   ]
  },
  {
   "cell_type": "code",
   "execution_count": 5,
   "metadata": {},
   "outputs": [],
   "source": [
    "#Variable initialisation for \n",
    "num_of_iter = 2000\n",
    "learning_rate = 0.01\n",
    "neurons_input = x.shape[1]\n",
    "neurons_hidL = neurons_input + n \n",
    "neurons_outL = n\n",
    "weights_hidL = np.random.uniform(low = -1, high = 1, size = (neurons_input,neurons_hidL))\n",
    "weights_outL = np.random.uniform(low = -1, high = 1, size = (neurons_hidL,neurons_outL))\n",
    "bias_inputL=np.random.uniform(low = -1, high = 1,size=(m,neurons_hidL))\n",
    "bias_hidL=np.random.uniform(low = -1, high = 1,size=(m,neurons_outL))"
   ]
  },
  {
   "cell_type": "code",
   "execution_count": 6,
   "metadata": {},
   "outputs": [],
   "source": [
    "#Forward Propogation\n",
    "#for i in range(num_of_iter):\n",
    "input_hidL = np.dot(x, weights_hidL) + bias_inputL\n",
    "activations_hidL = sigmoid(input_hidL)\n",
    "outL= np.dot(activations_hidL, weights_outL) + bias_hidL\n",
    "output = sigmoid(outL)"
   ]
  },
  {
   "cell_type": "code",
   "execution_count": 7,
   "metadata": {},
   "outputs": [],
   "source": [
    "#Backpropagation\n",
    "# Error = y-output\n",
    "# slope_outL = derivatives_sigmoid(output)\n",
    "# slope_hidL1 = derivatives_sigmoid(activations_hidL1)\n",
    "# slope_hidL2 = derivatives_sigmoid(activations_hidL2)\n",
    "# d_output = Error * slope_outL\n",
    "# Error_hidL2 = d_output.dot(weights_hidL2.T)\n",
    "# d_hidL2 = Error_hidL2 * slope_hidL2\n",
    "# Error_hidL1 = d_output.dot(weights_hidL1.T)\n",
    "# d_hidL1 = Error_hidL1 * slope_hidL1\n",
    "# weights_hidL2 += activations_hidL2.T.dot(d_output) * learning_rate\n",
    "# #bout += np.sum(d_output, axis=0,keepdims=True) *lr\n",
    "# weights_hidL1 += activations_hidL1.T.dot(d_hidL2) * learning_rate\n",
    "# #bh += np.sum(d_hiddenlayer, axis=0,keepdims=True) *lr"
   ]
  },
  {
   "cell_type": "code",
   "execution_count": 8,
   "metadata": {},
   "outputs": [
    {
     "ename": "ValueError",
     "evalue": "operands could not be broadcast together with shapes (6,4) (4,4) (6,4) ",
     "output_type": "error",
     "traceback": [
      "\u001b[1;31m---------------------------------------------------------------------------\u001b[0m",
      "\u001b[1;31mValueError\u001b[0m                                Traceback (most recent call last)",
      "\u001b[1;32m<ipython-input-8-1fdfbd142dac>\u001b[0m in \u001b[0;36m<module>\u001b[1;34m()\u001b[0m\n\u001b[0;32m      6\u001b[0m \u001b[0md_output\u001b[0m \u001b[1;33m=\u001b[0m \u001b[0mError_outL\u001b[0m \u001b[1;33m*\u001b[0m \u001b[0mslope_outL\u001b[0m\u001b[1;33m\u001b[0m\u001b[0m\n\u001b[0;32m      7\u001b[0m \u001b[0md_hidL\u001b[0m \u001b[1;33m=\u001b[0m \u001b[0mError_hidL\u001b[0m \u001b[1;33m*\u001b[0m \u001b[0mslope_hidL\u001b[0m\u001b[1;33m\u001b[0m\u001b[0m\n\u001b[1;32m----> 8\u001b[1;33m \u001b[0mweights_outL\u001b[0m \u001b[1;33m+=\u001b[0m \u001b[1;33m(\u001b[0m\u001b[0moutput\u001b[0m\u001b[1;33m.\u001b[0m\u001b[0mT\u001b[0m\u001b[1;33m)\u001b[0m\u001b[1;33m.\u001b[0m\u001b[0mdot\u001b[0m\u001b[1;33m(\u001b[0m\u001b[0md_output\u001b[0m\u001b[1;33m)\u001b[0m \u001b[1;33m*\u001b[0m \u001b[0mlearning_rate\u001b[0m\u001b[1;33m\u001b[0m\u001b[0m\n\u001b[0m\u001b[0;32m      9\u001b[0m \u001b[0mweights_hidL\u001b[0m \u001b[1;33m+=\u001b[0m \u001b[0mactivations_hidL\u001b[0m\u001b[1;33m.\u001b[0m\u001b[0mT\u001b[0m\u001b[1;33m.\u001b[0m\u001b[0mdot\u001b[0m\u001b[1;33m(\u001b[0m\u001b[0md_hidL\u001b[0m\u001b[1;33m)\u001b[0m \u001b[1;33m*\u001b[0m \u001b[0mlearning_rate\u001b[0m\u001b[1;33m\u001b[0m\u001b[0m\n",
      "\u001b[1;31mValueError\u001b[0m: operands could not be broadcast together with shapes (6,4) (4,4) (6,4) "
     ]
    }
   ],
   "source": [
    "#backpropagation\n",
    "Error_outL = Y-output\n",
    "Error_hidL = (((np.dot(weights_outL,Error_outL.T)).T)*(derivatives_sigmoid(activations_hidL)))\n",
    "slope_outL = derivatives_sigmoid(output)\n",
    "slope_hidL = derivatives_sigmoid(activations_hidL)\n",
    "d_output = Error_outL * slope_outL\n",
    "d_hidL = Error_hidL * slope_hidL\n",
    "weights_outL += (output.T).dot(d_output) * learning_rate\n",
    "weights_hidL += activations_hidL.T.dot(d_hidL) * learning_rate\n",
    "\n"
   ]
  },
  {
   "cell_type": "code",
   "execution_count": null,
   "metadata": {},
   "outputs": [],
   "source": []
  }
 ],
 "metadata": {
  "kernelspec": {
   "display_name": "Python 3",
   "language": "python",
   "name": "python3"
  },
  "language_info": {
   "codemirror_mode": {
    "name": "ipython",
    "version": 3
   },
   "file_extension": ".py",
   "mimetype": "text/x-python",
   "name": "python",
   "nbconvert_exporter": "python",
   "pygments_lexer": "ipython3",
   "version": "3.6.5"
  }
 },
 "nbformat": 4,
 "nbformat_minor": 2
}
